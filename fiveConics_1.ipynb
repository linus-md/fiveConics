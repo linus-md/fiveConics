{
 "cells": [
  {
   "cell_type": "code",
   "execution_count": 1,
   "metadata": {},
   "outputs": [],
   "source": [
    "using HomotopyContinuation\n",
    "using LinearAlgebra"
   ]
  },
  {
   "cell_type": "code",
   "execution_count": 6,
   "metadata": {},
   "outputs": [
    {
     "ename": "LoadError",
     "evalue": "ArgumentError: Substitution arguments don't have the same size.",
     "output_type": "error",
     "traceback": [
      "ArgumentError: Substitution arguments don't have the same size.",
      "",
      "Stacktrace:",
      "  [1] HomotopyContinuation.ModelKit.ExpressionMap(::HomotopyContinuation.ModelKit.ExpressionMap, ::Pair{Vector{Variable}, Vector{Float64}})",
      "    @ HomotopyContinuation.ModelKit ~/.julia/packages/HomotopyContinuation/I1faM/src/model_kit/symengine.jl:797",
      "  [2] HomotopyContinuation.ModelKit.ExpressionMap(D::HomotopyContinuation.ModelKit.ExpressionMap, ::Pair{Vector{Variable}, Vector{Variable}}, args::Pair{Vector{Variable}, Vector{Float64}})",
      "    @ HomotopyContinuation.ModelKit ~/.julia/packages/HomotopyContinuation/I1faM/src/model_kit/symengine.jl:802",
      "  [3] ExpressionMap",
      "    @ ~/.julia/packages/HomotopyContinuation/I1faM/src/model_kit/symengine.jl:783 [inlined]",
      "  [4] subs(::Vector{Expression}, ::Pair{Vector{Variable}, Vector{Variable}}, ::Pair{Vector{Variable}, Vector{Float64}})",
      "    @ HomotopyContinuation.ModelKit ~/.julia/packages/HomotopyContinuation/I1faM/src/model_kit/symbolic.jl:239",
      "  [5] evaluate(::Vector{Expression}, ::Pair{Vector{Variable}, Vector{Variable}}, ::Pair{Vector{Variable}, Vector{Float64}})",
      "    @ HomotopyContinuation.ModelKit ~/.julia/packages/HomotopyContinuation/I1faM/src/model_kit/symbolic.jl:271",
      "  [6] evaluate",
      "    @ ~/.julia/packages/HomotopyContinuation/I1faM/src/model_kit/symbolic.jl:1139 [inlined]",
      "  [7] System",
      "    @ ~/.julia/packages/HomotopyContinuation/I1faM/src/model_kit/symbolic.jl:1143 [inlined]",
      "  [8] InterpretedSystem",
      "    @ ~/.julia/packages/HomotopyContinuation/I1faM/src/model_kit/interpreted_system_homotopy.jl:70 [inlined]",
      "  [9] MixedSystem",
      "    @ ~/.julia/packages/HomotopyContinuation/I1faM/src/systems/mixed_system.jl:28 [inlined]",
      " [10] FixedParameterSystem (repeats 2 times)",
      "    @ ~/.julia/packages/HomotopyContinuation/I1faM/src/systems/fixed_parameter_system.jl:26 [inlined]",
      " [11] polyhedral(F::FixedParameterSystem{MixedSystem{Int32, (0x1b7d99f852eddb47, 1)}, Float64}; kwargs::Base.Pairs{Symbol, Union{}, Tuple{}, NamedTuple{(), Tuple{}}})",
      "    @ HomotopyContinuation ~/.julia/packages/HomotopyContinuation/I1faM/src/polyhedral.jl:166",
      " [12] polyhedral(F::FixedParameterSystem{MixedSystem{Int32, (0x1b7d99f852eddb47, 1)}, Float64})",
      "    @ HomotopyContinuation ~/.julia/packages/HomotopyContinuation/I1faM/src/polyhedral.jl:164",
      " [13] polyhedral(f::System; compile::Symbol, target_parameters::Vector{Float64}, kwargs::Base.Pairs{Symbol, Union{}, Tuple{}, NamedTuple{(), Tuple{}}})",
      "    @ HomotopyContinuation ~/.julia/packages/HomotopyContinuation/I1faM/src/polyhedral.jl:175",
      " [14] solver_startsolutions(F::System, starts::Nothing; seed::UInt32, start_system::Symbol, generic_parameters::Nothing, p₁::Nothing, start_parameters::Nothing, p₀::Nothing, target_parameters::Vector{Float64}, compile::Symbol, start_subspace::Nothing, target_subspace::Nothing, intrinsic::Nothing, kwargs::Base.Pairs{Symbol, Union{}, Tuple{}, NamedTuple{(), Tuple{}}})",
      "    @ HomotopyContinuation ~/.julia/packages/HomotopyContinuation/I1faM/src/solve.jl:160",
      " [15] solve(args::System; show_progress::Bool, threading::Bool, catch_interrupt::Bool, target_parameters::Vector{Float64}, stop_early_cb::Function, transform_result::Nothing, transform_parameters::typeof(identity), flatten::Nothing, target_subspaces::Nothing, kwargs::Base.Pairs{Symbol, Union{}, Tuple{}, NamedTuple{(), Tuple{}}})",
      "    @ HomotopyContinuation ~/.julia/packages/HomotopyContinuation/I1faM/src/solve.jl:465",
      " [16] top-level scope",
      "    @ In[6]:32",
      " [17] eval",
      "    @ ./boot.jl:373 [inlined]",
      " [18] include_string(mapexpr::typeof(REPL.softscope), mod::Module, code::String, filename::String)",
      "    @ Base ./loading.jl:1196"
     ]
    }
   ],
   "source": [
    "function steiner()\n",
    "    @var x[1:2] a[1:5] c[1:6] y[1:2, 1:5]\n",
    "\n",
    "    #tangential conics\n",
    "    f = a[1] * x[1]^2 + a[2] * x[1] * x[2] + a[3] * x[2]^2 + a[4] * x[1] + a[5] * x[2] + 1\n",
    "    ∇ = differentiate(f, x)\n",
    "    #5 conics\n",
    "    g =\n",
    "        c[1] * x[1]^2 +\n",
    "        c[2] * x[1] * x[2] +\n",
    "        c[3] * x[2]^2 +\n",
    "        c[4] * x[1] +\n",
    "        c[5] * x[2] +\n",
    "        c[6]\n",
    "    ∇_2 = differentiate(g, x)\n",
    "    #the general system\n",
    "    #f_a_0 is tangent to g_b₀ at x₀\n",
    "    function Incidence(f, a₀, g, b₀, x₀)\n",
    "        fᵢ = f(x => x₀, a => a₀)\n",
    "        ∇ᵢ = ∇(x => x₀, a => a₀)\n",
    "        Cᵢ = g(x => x₀, c => b₀)\n",
    "        ∇_Cᵢ = ∇_2(x => x₀, c => b₀)\n",
    "        [fᵢ; Cᵢ; det([∇ᵢ ∇_Cᵢ])]\n",
    "    end\n",
    "    @var v[1:6, 1:5]\n",
    "    F = vcat(map(i -> Incidence(f, a, g, v[:, i], y[:, i]), 1:5)...)\n",
    "    System(F, [a; vec(y)], vec(v))\n",
    "end\n",
    "\n",
    "F= steiner()\n",
    "p = randn(25)\n",
    "S = solve(F, target_parameters = p, show_progress = true)"
   ]
  },
  {
   "cell_type": "code",
   "execution_count": null,
   "metadata": {},
   "outputs": [],
   "source": []
  }
 ],
 "metadata": {
  "kernelspec": {
   "display_name": "Julia 1.7.3",
   "language": "julia",
   "name": "julia-1.7"
  },
  "language_info": {
   "file_extension": ".jl",
   "mimetype": "application/julia",
   "name": "julia",
   "version": "1.7.3"
  },
  "orig_nbformat": 4
 },
 "nbformat": 4,
 "nbformat_minor": 2
}
