{
 "cells": [
  {
   "cell_type": "code",
   "execution_count": 1,
   "metadata": {},
   "outputs": [],
   "source": [
    "using HomotopyContinuation\n",
    "using LinearAlgebra"
   ]
  },
  {
   "cell_type": "code",
   "execution_count": 4,
   "metadata": {},
   "outputs": [
    {
     "data": {
      "text/plain": [
       "steiner_system (generic function with 1 method)"
      ]
     },
     "execution_count": 4,
     "metadata": {},
     "output_type": "execute_result"
    }
   ],
   "source": [
    "function steiner_system()\n",
    "    @var x[1:2] a[1:5] c[1:6] y[1:2, 1:5]\n",
    "    #tangential conics\n",
    "    f = a[1] * x[1]^2 + a[2] * x[1] * x[2] + a[3] * x[2]^2 + a[4] * x[1] + a[5] * x[2] + 1\n",
    "    ∇ = differentiate(f, x)\n",
    "    #5 conics\n",
    "    g =\n",
    "        c[1] * x[1]^2 +\n",
    "        c[2] * x[1] * x[2] +\n",
    "        c[3] * x[2]^2 +\n",
    "        c[4] * x[1] +\n",
    "        c[5] * x[2] +\n",
    "        c[6]\n",
    "    ∇_2 = differentiate(g, x)\n",
    "    #the general system\n",
    "    #f_a_0 is tangent to g_b₀ at x₀\n",
    "    function Incidence(f, a₀, g, b₀, x₀)\n",
    "        fᵢ = f(x => x₀, a => a₀)\n",
    "        ∇ᵢ = ∇(x => x₀, a => a₀)\n",
    "        Cᵢ = g(x => x₀, c => b₀)\n",
    "        ∇_Cᵢ = ∇_2(x => x₀, c => b₀)\n",
    "        [fᵢ; Cᵢ; det([∇ᵢ ∇_Cᵢ])]\n",
    "    end\n",
    "    @var v[1:6, 1:5]\n",
    "    F = vcat(map(i -> Incidence(f, a, g, v[:, i], y[:, i]), 1:5)...)\n",
    "    System(F, [a; vec(y)], vec(v))\n",
    "end"
   ]
  },
  {
   "cell_type": "code",
   "execution_count": 8,
   "metadata": {},
   "outputs": [
    {
     "name": "stdout",
     "output_type": "stream",
     "text": [
      "\u001b[32mTracking 27072 paths... 100%|███████████████████████████| Time: 0:07:53\u001b[39m\n",
      "\u001b[34m  # paths tracked:                  27072\u001b[39m\n",
      "\u001b[34m  # non-singular solutions (real):  3264 (170)\u001b[39m\n",
      "\u001b[34m  # singular endpoints (real):      3560 (192)\u001b[39m\n",
      "\u001b[34m  # total solutions (real):         6824 (362)\u001b[39m\n"
     ]
    },
    {
     "data": {
      "text/plain": [
       "Result with 5895 solutions\n",
       "==========================\n",
       "• 27072 paths tracked\n",
       "• 3264 non-singular solutions (170 real)\n",
       "• 2631 singular solutions (50 real)\n",
       "• random_seed: 0xd0e47496\n",
       "• start_system: :polyhedral\n",
       "• multiplicity table of singular solutions:\n",
       "\u001b[2m╭\u001b[0m\u001b[2m───────\u001b[0m\u001b[2m┬\u001b[0m\u001b[2m───────\u001b[0m\u001b[2m┬\u001b[0m\u001b[2m────────\u001b[0m\u001b[2m┬\u001b[0m\u001b[2m────────────\u001b[0m\u001b[2m╮\u001b[0m\n",
       "\u001b[2m│\u001b[0m\u001b[22m mult. \u001b[0m\u001b[2m│\u001b[0m\u001b[22m total \u001b[0m\u001b[2m│\u001b[0m\u001b[22m # real \u001b[0m\u001b[2m│\u001b[0m\u001b[22m # non-real \u001b[0m\u001b[2m│\u001b[0m\n",
       "\u001b[2m├\u001b[0m\u001b[2m───────\u001b[0m\u001b[2m┼\u001b[0m\u001b[2m───────\u001b[0m\u001b[2m┼\u001b[0m\u001b[2m────────\u001b[0m\u001b[2m┼\u001b[0m\u001b[2m────────────\u001b[0m\u001b[2m┤\u001b[0m\n",
       "\u001b[2m│\u001b[0m   1   \u001b[2m│\u001b[0m 2283  \u001b[2m│\u001b[0m   2    \u001b[2m│\u001b[0m    2281    \u001b[2m│\u001b[0m\n",
       "\u001b[2m│\u001b[0m   2   \u001b[2m│\u001b[0m  55   \u001b[2m│\u001b[0m   0    \u001b[2m│\u001b[0m     55     \u001b[2m│\u001b[0m\n",
       "\u001b[2m│\u001b[0m   3   \u001b[2m│\u001b[0m   5   \u001b[2m│\u001b[0m   2    \u001b[2m│\u001b[0m     3      \u001b[2m│\u001b[0m\n",
       "\u001b[2m│\u001b[0m   4   \u001b[2m│\u001b[0m  288  \u001b[2m│\u001b[0m   46   \u001b[2m│\u001b[0m    242     \u001b[2m│\u001b[0m\n",
       "\u001b[2m╰\u001b[0m\u001b[2m───────\u001b[0m\u001b[2m┴\u001b[0m\u001b[2m───────\u001b[0m\u001b[2m┴\u001b[0m\u001b[2m────────\u001b[0m\u001b[2m┴\u001b[0m\u001b[2m────────────\u001b[0m\u001b[2m╯\u001b[0m\n"
      ]
     },
     "execution_count": 8,
     "metadata": {},
     "output_type": "execute_result"
    }
   ],
   "source": [
    "F = steiner_system()\n",
    "p = randn(30)\n",
    "S = solve(F, target_parameters = p, show_progress = true)"
   ]
  },
  {
   "cell_type": "code",
   "execution_count": null,
   "metadata": {},
   "outputs": [],
   "source": []
  }
 ],
 "metadata": {
  "kernelspec": {
   "display_name": "Julia 1.7.3",
   "language": "julia",
   "name": "julia-1.7"
  },
  "language_info": {
   "file_extension": ".jl",
   "mimetype": "application/julia",
   "name": "julia",
   "version": "1.7.3"
  },
  "orig_nbformat": 4
 },
 "nbformat": 4,
 "nbformat_minor": 2
}
