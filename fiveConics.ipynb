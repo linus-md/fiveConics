{
 "cells": [
  {
   "cell_type": "code",
   "execution_count": 12,
   "metadata": {},
   "outputs": [],
   "source": [
    "using HomotopyContinuation\n",
    "using LinearAlgebra"
   ]
  },
  {
   "cell_type": "code",
   "execution_count": 42,
   "metadata": {},
   "outputs": [],
   "source": [
    "@var u[1:5] # generic conic\n",
    "@var x[1:5], y[1:5] # points\n",
    "@var a[1:5], b[1:5], c[1:5], d[1:5], e[1:5] # five conics\n",
    "\n",
    "f1 = a[1]*x[1]^2 + a[2]*x[1]*y[1] + a[3]*y[1]^2 + a[4]*x[1] + a[5]*y[1] + 1 \n",
    "f2 = b[1]*x[2]^2 + b[2]*x[2]*y[2] + b[3]*y[2]^2 + b[4]*x[2] + b[5]*y[2] + 1 \n",
    "f3 = c[1]*x[3]^2 + c[2]*x[3]*y[3] + c[3]*y[3]^2 + c[4]*x[3] + c[5]*y[3] + 1 \n",
    "f4 = d[1]*x[4]^2 + d[2]*x[4]*y[4] + d[3]*y[4]^2 + d[4]*x[4] + d[5]*y[4] + 1 \n",
    "f5 = e[1]*x[5]^2 + e[2]*x[5]*y[5] + e[3]*y[5]^2 + e[4]*x[5] + e[5]*y[5] + 1 \n",
    "\n",
    "f6 = u[1]*x[1]^2 + u[2]*x[1]*y[1] + u[3]*y[1]^2 + u[4]*x[1] + u[5]*y[1] + 1\n",
    "f7 = u[1]*x[2]^2 + u[2]*x[2]*y[2] + u[3]*y[2]^2 + u[4]*x[2] + u[5]*y[2] + 1 \n",
    "f8 = u[1]*x[3]^2 + u[2]*x[3]*y[3] + u[3]*y[3]^2 + u[4]*x[3] + u[5]*y[3] + 1 \n",
    "f9 = u[1]*x[4]^2 + u[2]*x[4]*y[4] + u[3]*y[4]^2 + u[4]*x[4] + u[5]*y[4] + 1 \n",
    "f10 = u[1]*x[5]^2 + u[2]*x[5]*y[5] + u[3]*y[5]^2 + u[4]*x[5] + u[5]*y[5] + 1 \n",
    "\n",
    "f11 = det([differentiate(f1, [x[1], y[1]]) differentiate(f6, [x[1], y[1]])]) \n",
    "f12 = det([differentiate(f2, [x[2], y[2]]) differentiate(f7, [x[2], y[2]])]) \n",
    "f13 = det([differentiate(f3, [x[3], y[3]]) differentiate(f8, [x[3], y[3]])]) \n",
    "f14 = det([differentiate(f4, [x[4], y[4]]) differentiate(f9, [x[4], y[4]])]) \n",
    "f15 = det([differentiate(f5, [x[5], y[5]]) differentiate(f10, [x[5], y[5]])]);"
   ]
  },
  {
   "cell_type": "code",
   "execution_count": 37,
   "metadata": {},
   "outputs": [
    {
     "name": "stdout",
     "output_type": "stream",
     "text": [
      "\u001b[32mTracking 30224 paths... 100%|███████████████████████████| Time: 0:08:05\u001b[39m\n",
      "\u001b[34m  # paths tracked:                  30224\u001b[39m\n",
      "\u001b[34m  # non-singular solutions (real):  5936 (158)\u001b[39m\n",
      "\u001b[34m  # singular endpoints (real):      3195 (64)\u001b[39m\n",
      "\u001b[34m  # total solutions (real):         9131 (222)\u001b[39m\n"
     ]
    },
    {
     "data": {
      "text/plain": [
       "Result with 8715 solutions\n",
       "==========================\n",
       "• 30224 paths tracked\n",
       "• 5936 non-singular solutions (158 real)\n",
       "• 2779 singular solutions (16 real)\n",
       "• random_seed: 0x6b56cd23\n",
       "• start_system: :polyhedral\n",
       "• multiplicity table of singular solutions:\n",
       "\u001b[2m╭\u001b[0m\u001b[2m───────\u001b[0m\u001b[2m┬\u001b[0m\u001b[2m───────\u001b[0m\u001b[2m┬\u001b[0m\u001b[2m────────\u001b[0m\u001b[2m┬\u001b[0m\u001b[2m────────────\u001b[0m\u001b[2m╮\u001b[0m\n",
       "\u001b[2m│\u001b[0m\u001b[22m mult. \u001b[0m\u001b[2m│\u001b[0m\u001b[22m total \u001b[0m\u001b[2m│\u001b[0m\u001b[22m # real \u001b[0m\u001b[2m│\u001b[0m\u001b[22m # non-real \u001b[0m\u001b[2m│\u001b[0m\n",
       "\u001b[2m├\u001b[0m\u001b[2m───────\u001b[0m\u001b[2m┼\u001b[0m\u001b[2m───────\u001b[0m\u001b[2m┼\u001b[0m\u001b[2m────────\u001b[0m\u001b[2m┼\u001b[0m\u001b[2m────────────\u001b[0m\u001b[2m┤\u001b[0m\n",
       "\u001b[2m│\u001b[0m   1   \u001b[2m│\u001b[0m 2618  \u001b[2m│\u001b[0m   0    \u001b[2m│\u001b[0m    2618    \u001b[2m│\u001b[0m\n",
       "\u001b[2m│\u001b[0m   2   \u001b[2m│\u001b[0m  33   \u001b[2m│\u001b[0m   0    \u001b[2m│\u001b[0m     33     \u001b[2m│\u001b[0m\n",
       "\u001b[2m│\u001b[0m   3   \u001b[2m│\u001b[0m   1   \u001b[2m│\u001b[0m   0    \u001b[2m│\u001b[0m     1      \u001b[2m│\u001b[0m\n",
       "\u001b[2m│\u001b[0m   4   \u001b[2m│\u001b[0m  127  \u001b[2m│\u001b[0m   16   \u001b[2m│\u001b[0m    111     \u001b[2m│\u001b[0m\n",
       "\u001b[2m╰\u001b[0m\u001b[2m───────\u001b[0m\u001b[2m┴\u001b[0m\u001b[2m───────\u001b[0m\u001b[2m┴\u001b[0m\u001b[2m────────\u001b[0m\u001b[2m┴\u001b[0m\u001b[2m────────────\u001b[0m\u001b[2m╯\u001b[0m\n"
      ]
     },
     "execution_count": 37,
     "metadata": {},
     "output_type": "execute_result"
    }
   ],
   "source": [
    "paramVec = collect(Iterators.flatten([a,b,c,d,e]))\n",
    "F = System([f1, f2, f3, f4, f5, f6, f7, f8, f9, f10, f11, f12, f13, f14, f15], \n",
    "            variables = [u[1], u[2], u[3], u[4], u[5], x[1], x[2], x[3], x[4], x[5], y[1], y[2], y[3], y[4], y[5]], \n",
    "            parameters = paramVec)\n",
    "p = randn(25)\n",
    "S = solve(F, target_parameters = p, show_progress = true)"
   ]
  }
 ],
 "metadata": {
  "kernelspec": {
   "display_name": "Julia 1.7.3",
   "language": "julia",
   "name": "julia-1.7"
  },
  "language_info": {
   "file_extension": ".jl",
   "mimetype": "application/julia",
   "name": "julia",
   "version": "1.7.3"
  },
  "orig_nbformat": 4
 },
 "nbformat": 4,
 "nbformat_minor": 2
}
