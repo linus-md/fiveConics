{
 "cells": [
  {
   "cell_type": "code",
   "execution_count": 1,
   "metadata": {},
   "outputs": [],
   "source": [
    "using HomotopyContinuation\n",
    "using LinearAlgebra\n",
    "using DataFrames\n",
    "using CSV"
   ]
  },
  {
   "cell_type": "code",
   "execution_count": 5,
   "metadata": {},
   "outputs": [],
   "source": [
    "@var s, t, r \n",
    "@var u[1:5], v[1:5] \n",
    "@var a[1:6], b[1:6], c[1:6], d[1:6], e[1:6]\n",
    "\n",
    "f_1 = (u[1] - s)^2 + (v[1] - t)^2 - r # Point lies on the circle\n",
    "f_2 = (u[2] - s)^2 + (v[2] - t)^2 - r \n",
    "f_3 = (u[3] - s)^2 + (v[3] - t)^2 - r \n",
    "f_4 = (u[4] - s)^2 + (v[4] - t)^2 - r \n",
    "f_5 = (u[5] - s)^2 + (v[5] - t)^2 - r \n",
    "\n",
    "f_6 = a[1]*u[1]^2 + a[2]*u[1]*v[1] + a[3]*v[1]^2 + a[4]*u[1] + a[5]*v[1] + a[6] # Point lies on the conic\n",
    "f_7 = b[1]*u[2]^2 + b[2]*u[2]*v[2] + b[3]*v[2]^2 + b[4]*u[2] + b[5]*v[2] + b[6]\n",
    "f_8 = c[1]*u[3]^2 + c[2]*u[3]*v[3] + c[3]*v[3]^2 + c[4]*u[3] + c[5]*v[3] + c[6]\n",
    "f_9 = d[1]*u[4]^2 + d[2]*u[4]*v[4] + d[3]*v[4]^2 + d[4]*u[4] + d[5]*v[4] + d[6] \n",
    "f_10 = e[1]*u[5]^2 + e[2]*u[5]*v[5] + e[3]*v[5]^2 + e[4]*u[5] + e[5]*v[5] + e[6]\n",
    "\n",
    "f_11 = det([differentiate(f_1, [u[1], v[1]]) differentiate(f_6, [u[1], v[1]])]) # Tangency Conditions\n",
    "f_12 = det([differentiate(f_2, [u[2], v[2]]) differentiate(f_7, [u[2], v[2]])]) \n",
    "f_13 = det([differentiate(f_3, [u[3], v[3]]) differentiate(f_8, [u[3], v[3]])])\n",
    "f_14 = det([differentiate(f_4, [u[4], v[4]]) differentiate(f_9, [u[4], v[4]])]) \n",
    "f_15 = det([differentiate(f_5, [u[5], v[5]]) differentiate(f_10, [u[5], v[5]])]);"
   ]
  },
  {
   "cell_type": "code",
   "execution_count": 15,
   "metadata": {},
   "outputs": [
    {
     "name": "stdout",
     "output_type": "stream",
     "text": [
      "\u001b[32mTracking 4096 paths... 100%|████████████████████████████| Time: 0:01:03\u001b[39m\n",
      "\u001b[34m  # paths tracked:                  4096\u001b[39m\n",
      "\u001b[34m  # non-singular solutions (real):  0 (0)\u001b[39m\n",
      "\u001b[34m  # singular endpoints (real):      0 (0)\u001b[39m\n",
      "\u001b[34m  # total solutions (real):         0 (0)\u001b[39m\n"
     ]
    }
   ],
   "source": [
    "paramVec = collect(Iterators.flatten([a,b,c,d,e]))\n",
    "F = System([f_1, f_2, f_3, f_4, f_5, f_6, f_7, f_8, f_9, f_10, f_11, f_12, f_13, f_14, f_15], variables = [u[1], v[1], u[2], v[2], u[3], v[3], u[4], v[4], u[5], v[5], s, t, r], parameters = paramVec)\n",
    "p = randn(30)\n",
    "S = solve(F, target_parameters = p, show_progress = true);"
   ]
  }
 ],
 "metadata": {
  "kernelspec": {
   "display_name": "Julia 1.7.3",
   "language": "julia",
   "name": "julia-1.7"
  },
  "language_info": {
   "file_extension": ".jl",
   "mimetype": "application/julia",
   "name": "julia",
   "version": "1.7.3"
  },
  "orig_nbformat": 4
 },
 "nbformat": 4,
 "nbformat_minor": 2
}
